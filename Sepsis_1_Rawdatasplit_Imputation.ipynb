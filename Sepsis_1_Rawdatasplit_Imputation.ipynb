{
 "cells": [
  {
   "cell_type": "code",
   "execution_count": 1,
   "id": "2f68941f",
   "metadata": {},
   "outputs": [],
   "source": [
    "import pandas as pd\n",
    "import numpy as np\n",
    "import os\n",
    "from random import seed\n",
    "\n",
    "seed(1999)"
   ]
  },
  {
   "cell_type": "code",
   "execution_count": 14,
   "id": "9915cefb",
   "metadata": {},
   "outputs": [],
   "source": [
    "data_path='D:\\\\Jio Term 2\\\\ML\\\\ML_Project\\\\training_setA\\\\training'"
   ]
  },
  {
   "cell_type": "code",
   "execution_count": 15,
   "id": "39889996",
   "metadata": {},
   "outputs": [],
   "source": [
    "data_path_B='D:\\\\Jio Term 2\\\\ML\\\\ML_Project\\\\training_setB\\\\training_setB'"
   ]
  },
  {
   "cell_type": "code",
   "execution_count": 16,
   "id": "2cd78176",
   "metadata": {},
   "outputs": [],
   "source": [
    "#make a list of all the individual patients in that file\n",
    "patient_id=sorted(os.listdir(path=data_path))\n",
    "patient_id_B=sorted(os.listdir(path=data_path_B))"
   ]
  },
  {
   "cell_type": "code",
   "execution_count": 20,
   "id": "5d752ac3",
   "metadata": {},
   "outputs": [
    {
     "data": {
      "text/plain": [
       "True"
      ]
     },
     "execution_count": 20,
     "metadata": {},
     "output_type": "execute_result"
    }
   ],
   "source": [
    "len_train=round(0.7*len(patient_id))+1\n",
    "len_test=round(0.15*len(patient_id))\n",
    "len_val=round(0.15*len(patient_id))\n",
    "len(patient_id)==len_train+len_val+len_test\n",
    "\n",
    "\n",
    "#we have also cross checked that our split is correct\n",
    "# now randomly we need to distribute these patients using random module & sample function from that module"
   ]
  },
  {
   "cell_type": "code",
   "execution_count": 21,
   "id": "6799bbf4",
   "metadata": {},
   "outputs": [],
   "source": [
    "#we have stored variables from each of the items\n",
    "\n",
    "import random\n",
    "train_id=random.sample(patient_id,len_train)\n",
    "val_id=random.sample(set(patient_id)-set(train_id),len_val)\n",
    "test_id=(set(patient_id)-set(train_id)-set(val_id))\n",
    "\n",
    "\n",
    "train_B_id=random.sample(patient_id_B,len(patient_id_B))"
   ]
  },
  {
   "cell_type": "code",
   "execution_count": 49,
   "id": "dc6661f5",
   "metadata": {},
   "outputs": [],
   "source": [
    "#now we create 3 seperate folders to populate our database\n",
    "\n",
    "data_train='D:\\Jio Term 2\\ML\\ML_Project\\\\training_setA\\\\train_id'\n",
    "data_val='D:\\\\Jio Term 2\\\\ML\\\\ML_Project\\\\training_setA\\\\val_id'\n",
    "data_test='D:\\\\Jio Term 2\\\\ML\\\\ML_Project\\\\training_setA\\\\test_id'"
   ]
  },
  {
   "cell_type": "code",
   "execution_count": 17,
   "id": "269258b3",
   "metadata": {},
   "outputs": [],
   "source": [
    "#now we create seperate folder for Training setB, which will be used as a final deployement test\n",
    "\n",
    "data_trainingsetB_test='D:\\\\Jio Term 2\\\\ML\\\\ML_Project\\\\training_setB\\\\test_val_B'"
   ]
  },
  {
   "cell_type": "code",
   "execution_count": 23,
   "id": "d974fd92",
   "metadata": {},
   "outputs": [],
   "source": [
    "for p in train_B_id:\n",
    "    df=pd.read_csv(data_path_B+'/'+p,sep='|')\n",
    "    df.to_csv(data_trainingsetB_test+'/'+p,sep='|',index=False)"
   ]
  },
  {
   "cell_type": "code",
   "execution_count": 48,
   "id": "91f6206c",
   "metadata": {},
   "outputs": [],
   "source": [
    "for p in train_id:\n",
    "    df=pd.read_csv(data_path+'/'+p,sep='|')\n",
    "    df.to_csv(data_train+'/'+p,sep='|',index=False)"
   ]
  },
  {
   "cell_type": "code",
   "execution_count": 50,
   "id": "fd803c9a",
   "metadata": {},
   "outputs": [],
   "source": [
    "for p in val_id:\n",
    "    df=pd.read_csv(data_path+'/'+p,sep='|')\n",
    "    df.to_csv(data_val+'/'+p,sep='|',index=False)"
   ]
  },
  {
   "cell_type": "code",
   "execution_count": 51,
   "id": "00744519",
   "metadata": {},
   "outputs": [],
   "source": [
    "for p in test_id:\n",
    "    df=pd.read_csv(data_path+'/'+p,sep='|')\n",
    "    df.to_csv(data_test+'/'+p,sep='|',index=False)\n",
    "    "
   ]
  },
  {
   "cell_type": "markdown",
   "id": "33b00228",
   "metadata": {},
   "source": [
    "# Baseline Function for imputing missing values"
   ]
  },
  {
   "cell_type": "code",
   "execution_count": 25,
   "id": "2b965f08",
   "metadata": {},
   "outputs": [],
   "source": [
    "#function to fill the missing values, we will use backward & ffill method to fill the missing values for each patient,\n",
    "# since the data is provided patient wise psv files, we will also impute the data patient wise using backward & forward fill\n",
    "\n",
    "def impute_missing_vals(df, features):\n",
    "    df_clean=df.copy()\n",
    "    for feature in features:\n",
    "        if df_clean[feature].isnull().sum()==len(df_clean):\n",
    "            df_clean[feature]=df_clean[feature].fillna(0)\n",
    "        elif df_clean[feature].isnull().sum()==len(df_clean)-1:\n",
    "            df_clean[feature]=df_clean[feature].ffill().bfill()\n",
    "        else:\n",
    "            df_clean[feature]=df_clean[feature].interpolate(method='nearest',limit_direction='both')\n",
    "            df_clean[feature]=df_clean[feature].ffill().bfill()\n",
    "    return df_clean"
   ]
  },
  {
   "cell_type": "code",
   "execution_count": 26,
   "id": "8084d411",
   "metadata": {},
   "outputs": [],
   "source": [
    "#impute missing values and create clean dfs for each individual patient in psv file\n",
    "\n",
    "for p in patient_id_B:\n",
    "    df=pd.read_csv(data_path_B+'/'+p,sep='|')\n",
    "    features=df.columns[:-1]\n",
    "    df_clean=impute_missing_vals(df,features)\n",
    "    \n",
    "    \n",
    "    #save the new patient data\n",
    "    \n",
    "    if p in train_B_id:\n",
    "        save_path='D:\\\\Jio Term 2\\\\ML\\\\ML_Project\\\\training_setB\\\\baseline\\\\train_baseline_B'\n",
    "        df_clean.to_csv(save_path+'/'+p,sep='|',index=False)\n",
    "    "
   ]
  },
  {
   "cell_type": "code",
   "execution_count": 76,
   "id": "72cb8dfa",
   "metadata": {
    "collapsed": true
   },
   "outputs": [
    {
     "ename": "KeyboardInterrupt",
     "evalue": "",
     "output_type": "error",
     "traceback": [
      "\u001b[1;31m---------------------------------------------------------------------------\u001b[0m",
      "\u001b[1;31mKeyboardInterrupt\u001b[0m                         Traceback (most recent call last)",
      "\u001b[1;32m<ipython-input-76-59c1185f66de>\u001b[0m in \u001b[0;36m<module>\u001b[1;34m\u001b[0m\n\u001b[0;32m      4\u001b[0m     \u001b[0mdf\u001b[0m\u001b[1;33m=\u001b[0m\u001b[0mpd\u001b[0m\u001b[1;33m.\u001b[0m\u001b[0mread_csv\u001b[0m\u001b[1;33m(\u001b[0m\u001b[0mdata_path\u001b[0m\u001b[1;33m+\u001b[0m\u001b[1;34m'/'\u001b[0m\u001b[1;33m+\u001b[0m\u001b[0mp\u001b[0m\u001b[1;33m,\u001b[0m\u001b[0msep\u001b[0m\u001b[1;33m=\u001b[0m\u001b[1;34m'|'\u001b[0m\u001b[1;33m)\u001b[0m\u001b[1;33m\u001b[0m\u001b[1;33m\u001b[0m\u001b[0m\n\u001b[0;32m      5\u001b[0m     \u001b[0mfeatures\u001b[0m\u001b[1;33m=\u001b[0m\u001b[0mdf\u001b[0m\u001b[1;33m.\u001b[0m\u001b[0mcolumns\u001b[0m\u001b[1;33m[\u001b[0m\u001b[1;33m:\u001b[0m\u001b[1;33m-\u001b[0m\u001b[1;36m1\u001b[0m\u001b[1;33m]\u001b[0m\u001b[1;33m\u001b[0m\u001b[1;33m\u001b[0m\u001b[0m\n\u001b[1;32m----> 6\u001b[1;33m     \u001b[0mdf_clean\u001b[0m\u001b[1;33m=\u001b[0m\u001b[0mimpute_missing_vals\u001b[0m\u001b[1;33m(\u001b[0m\u001b[0mdf\u001b[0m\u001b[1;33m,\u001b[0m\u001b[0mfeatures\u001b[0m\u001b[1;33m)\u001b[0m\u001b[1;33m\u001b[0m\u001b[1;33m\u001b[0m\u001b[0m\n\u001b[0m\u001b[0;32m      7\u001b[0m \u001b[1;33m\u001b[0m\u001b[0m\n\u001b[0;32m      8\u001b[0m \u001b[1;33m\u001b[0m\u001b[0m\n",
      "\u001b[1;32m<ipython-input-54-95560a98832c>\u001b[0m in \u001b[0;36mimpute_missing_vals\u001b[1;34m(df, features)\u001b[0m\n\u001b[0;32m      5\u001b[0m     \u001b[1;32mfor\u001b[0m \u001b[0mfeature\u001b[0m \u001b[1;32min\u001b[0m \u001b[0mfeatures\u001b[0m\u001b[1;33m:\u001b[0m\u001b[1;33m\u001b[0m\u001b[1;33m\u001b[0m\u001b[0m\n\u001b[0;32m      6\u001b[0m         \u001b[1;32mif\u001b[0m \u001b[0mdf_clean\u001b[0m\u001b[1;33m[\u001b[0m\u001b[0mfeature\u001b[0m\u001b[1;33m]\u001b[0m\u001b[1;33m.\u001b[0m\u001b[0misnull\u001b[0m\u001b[1;33m(\u001b[0m\u001b[1;33m)\u001b[0m\u001b[1;33m.\u001b[0m\u001b[0msum\u001b[0m\u001b[1;33m(\u001b[0m\u001b[1;33m)\u001b[0m\u001b[1;33m==\u001b[0m\u001b[0mlen\u001b[0m\u001b[1;33m(\u001b[0m\u001b[0mdf_clean\u001b[0m\u001b[1;33m)\u001b[0m\u001b[1;33m:\u001b[0m\u001b[1;33m\u001b[0m\u001b[1;33m\u001b[0m\u001b[0m\n\u001b[1;32m----> 7\u001b[1;33m             \u001b[0mdf_clean\u001b[0m\u001b[1;33m[\u001b[0m\u001b[0mfeature\u001b[0m\u001b[1;33m]\u001b[0m\u001b[1;33m=\u001b[0m\u001b[0mdf_clean\u001b[0m\u001b[1;33m[\u001b[0m\u001b[0mfeature\u001b[0m\u001b[1;33m]\u001b[0m\u001b[1;33m.\u001b[0m\u001b[0mfillna\u001b[0m\u001b[1;33m(\u001b[0m\u001b[1;36m0\u001b[0m\u001b[1;33m)\u001b[0m\u001b[1;33m\u001b[0m\u001b[1;33m\u001b[0m\u001b[0m\n\u001b[0m\u001b[0;32m      8\u001b[0m         \u001b[1;32melif\u001b[0m \u001b[0mdf_clean\u001b[0m\u001b[1;33m[\u001b[0m\u001b[0mfeature\u001b[0m\u001b[1;33m]\u001b[0m\u001b[1;33m.\u001b[0m\u001b[0misnull\u001b[0m\u001b[1;33m(\u001b[0m\u001b[1;33m)\u001b[0m\u001b[1;33m.\u001b[0m\u001b[0msum\u001b[0m\u001b[1;33m(\u001b[0m\u001b[1;33m)\u001b[0m\u001b[1;33m==\u001b[0m\u001b[0mlen\u001b[0m\u001b[1;33m(\u001b[0m\u001b[0mdf_clean\u001b[0m\u001b[1;33m)\u001b[0m\u001b[1;33m-\u001b[0m\u001b[1;36m1\u001b[0m\u001b[1;33m:\u001b[0m\u001b[1;33m\u001b[0m\u001b[1;33m\u001b[0m\u001b[0m\n\u001b[0;32m      9\u001b[0m             \u001b[0mdf_clean\u001b[0m\u001b[1;33m[\u001b[0m\u001b[0mfeature\u001b[0m\u001b[1;33m]\u001b[0m\u001b[1;33m=\u001b[0m\u001b[0mdf_clean\u001b[0m\u001b[1;33m[\u001b[0m\u001b[0mfeature\u001b[0m\u001b[1;33m]\u001b[0m\u001b[1;33m.\u001b[0m\u001b[0mffill\u001b[0m\u001b[1;33m(\u001b[0m\u001b[1;33m)\u001b[0m\u001b[1;33m.\u001b[0m\u001b[0mbfill\u001b[0m\u001b[1;33m(\u001b[0m\u001b[1;33m)\u001b[0m\u001b[1;33m\u001b[0m\u001b[1;33m\u001b[0m\u001b[0m\n",
      "\u001b[1;32m~\\anaconda3\\lib\\site-packages\\pandas\\core\\frame.py\u001b[0m in \u001b[0;36m__setitem__\u001b[1;34m(self, key, value)\u001b[0m\n\u001b[0;32m   3161\u001b[0m         \u001b[1;32melse\u001b[0m\u001b[1;33m:\u001b[0m\u001b[1;33m\u001b[0m\u001b[1;33m\u001b[0m\u001b[0m\n\u001b[0;32m   3162\u001b[0m             \u001b[1;31m# set column\u001b[0m\u001b[1;33m\u001b[0m\u001b[1;33m\u001b[0m\u001b[1;33m\u001b[0m\u001b[0m\n\u001b[1;32m-> 3163\u001b[1;33m             \u001b[0mself\u001b[0m\u001b[1;33m.\u001b[0m\u001b[0m_set_item\u001b[0m\u001b[1;33m(\u001b[0m\u001b[0mkey\u001b[0m\u001b[1;33m,\u001b[0m \u001b[0mvalue\u001b[0m\u001b[1;33m)\u001b[0m\u001b[1;33m\u001b[0m\u001b[1;33m\u001b[0m\u001b[0m\n\u001b[0m\u001b[0;32m   3164\u001b[0m \u001b[1;33m\u001b[0m\u001b[0m\n\u001b[0;32m   3165\u001b[0m     \u001b[1;32mdef\u001b[0m \u001b[0m_setitem_slice\u001b[0m\u001b[1;33m(\u001b[0m\u001b[0mself\u001b[0m\u001b[1;33m,\u001b[0m \u001b[0mkey\u001b[0m\u001b[1;33m:\u001b[0m \u001b[0mslice\u001b[0m\u001b[1;33m,\u001b[0m \u001b[0mvalue\u001b[0m\u001b[1;33m)\u001b[0m\u001b[1;33m:\u001b[0m\u001b[1;33m\u001b[0m\u001b[1;33m\u001b[0m\u001b[0m\n",
      "\u001b[1;32m~\\anaconda3\\lib\\site-packages\\pandas\\core\\frame.py\u001b[0m in \u001b[0;36m_set_item\u001b[1;34m(self, key, value)\u001b[0m\n\u001b[0;32m   3241\u001b[0m         \u001b[0mself\u001b[0m\u001b[1;33m.\u001b[0m\u001b[0m_ensure_valid_index\u001b[0m\u001b[1;33m(\u001b[0m\u001b[0mvalue\u001b[0m\u001b[1;33m)\u001b[0m\u001b[1;33m\u001b[0m\u001b[1;33m\u001b[0m\u001b[0m\n\u001b[0;32m   3242\u001b[0m         \u001b[0mvalue\u001b[0m \u001b[1;33m=\u001b[0m \u001b[0mself\u001b[0m\u001b[1;33m.\u001b[0m\u001b[0m_sanitize_column\u001b[0m\u001b[1;33m(\u001b[0m\u001b[0mkey\u001b[0m\u001b[1;33m,\u001b[0m \u001b[0mvalue\u001b[0m\u001b[1;33m)\u001b[0m\u001b[1;33m\u001b[0m\u001b[1;33m\u001b[0m\u001b[0m\n\u001b[1;32m-> 3243\u001b[1;33m         \u001b[0mNDFrame\u001b[0m\u001b[1;33m.\u001b[0m\u001b[0m_set_item\u001b[0m\u001b[1;33m(\u001b[0m\u001b[0mself\u001b[0m\u001b[1;33m,\u001b[0m \u001b[0mkey\u001b[0m\u001b[1;33m,\u001b[0m \u001b[0mvalue\u001b[0m\u001b[1;33m)\u001b[0m\u001b[1;33m\u001b[0m\u001b[1;33m\u001b[0m\u001b[0m\n\u001b[0m\u001b[0;32m   3244\u001b[0m \u001b[1;33m\u001b[0m\u001b[0m\n\u001b[0;32m   3245\u001b[0m         \u001b[1;31m# check if we are modifying a copy\u001b[0m\u001b[1;33m\u001b[0m\u001b[1;33m\u001b[0m\u001b[1;33m\u001b[0m\u001b[0m\n",
      "\u001b[1;32m~\\anaconda3\\lib\\site-packages\\pandas\\core\\generic.py\u001b[0m in \u001b[0;36m_set_item\u001b[1;34m(self, key, value)\u001b[0m\n\u001b[0;32m   3830\u001b[0m             \u001b[1;32mreturn\u001b[0m\u001b[1;33m\u001b[0m\u001b[1;33m\u001b[0m\u001b[0m\n\u001b[0;32m   3831\u001b[0m \u001b[1;33m\u001b[0m\u001b[0m\n\u001b[1;32m-> 3832\u001b[1;33m         \u001b[0mNDFrame\u001b[0m\u001b[1;33m.\u001b[0m\u001b[0m_iset_item\u001b[0m\u001b[1;33m(\u001b[0m\u001b[0mself\u001b[0m\u001b[1;33m,\u001b[0m \u001b[0mloc\u001b[0m\u001b[1;33m,\u001b[0m \u001b[0mvalue\u001b[0m\u001b[1;33m)\u001b[0m\u001b[1;33m\u001b[0m\u001b[1;33m\u001b[0m\u001b[0m\n\u001b[0m\u001b[0;32m   3833\u001b[0m \u001b[1;33m\u001b[0m\u001b[0m\n\u001b[0;32m   3834\u001b[0m     \u001b[1;33m@\u001b[0m\u001b[0mfinal\u001b[0m\u001b[1;33m\u001b[0m\u001b[1;33m\u001b[0m\u001b[0m\n",
      "\u001b[1;32m~\\anaconda3\\lib\\site-packages\\pandas\\core\\generic.py\u001b[0m in \u001b[0;36m_iset_item\u001b[1;34m(self, loc, value)\u001b[0m\n\u001b[0;32m   3819\u001b[0m \u001b[1;33m\u001b[0m\u001b[0m\n\u001b[0;32m   3820\u001b[0m     \u001b[1;32mdef\u001b[0m \u001b[0m_iset_item\u001b[0m\u001b[1;33m(\u001b[0m\u001b[0mself\u001b[0m\u001b[1;33m,\u001b[0m \u001b[0mloc\u001b[0m\u001b[1;33m:\u001b[0m \u001b[0mint\u001b[0m\u001b[1;33m,\u001b[0m \u001b[0mvalue\u001b[0m\u001b[1;33m)\u001b[0m \u001b[1;33m->\u001b[0m \u001b[1;32mNone\u001b[0m\u001b[1;33m:\u001b[0m\u001b[1;33m\u001b[0m\u001b[1;33m\u001b[0m\u001b[0m\n\u001b[1;32m-> 3821\u001b[1;33m         \u001b[0mself\u001b[0m\u001b[1;33m.\u001b[0m\u001b[0m_mgr\u001b[0m\u001b[1;33m.\u001b[0m\u001b[0miset\u001b[0m\u001b[1;33m(\u001b[0m\u001b[0mloc\u001b[0m\u001b[1;33m,\u001b[0m \u001b[0mvalue\u001b[0m\u001b[1;33m)\u001b[0m\u001b[1;33m\u001b[0m\u001b[1;33m\u001b[0m\u001b[0m\n\u001b[0m\u001b[0;32m   3822\u001b[0m         \u001b[0mself\u001b[0m\u001b[1;33m.\u001b[0m\u001b[0m_clear_item_cache\u001b[0m\u001b[1;33m(\u001b[0m\u001b[1;33m)\u001b[0m\u001b[1;33m\u001b[0m\u001b[1;33m\u001b[0m\u001b[0m\n\u001b[0;32m   3823\u001b[0m \u001b[1;33m\u001b[0m\u001b[0m\n",
      "\u001b[1;32m~\\anaconda3\\lib\\site-packages\\pandas\\core\\internals\\managers.py\u001b[0m in \u001b[0;36miset\u001b[1;34m(self, loc, value)\u001b[0m\n\u001b[0;32m   1098\u001b[0m \u001b[1;33m\u001b[0m\u001b[0m\n\u001b[0;32m   1099\u001b[0m         \u001b[1;31m# Accessing public blknos ensures the public versions are initialized\u001b[0m\u001b[1;33m\u001b[0m\u001b[1;33m\u001b[0m\u001b[1;33m\u001b[0m\u001b[0m\n\u001b[1;32m-> 1100\u001b[1;33m         \u001b[0mblknos\u001b[0m \u001b[1;33m=\u001b[0m \u001b[0mself\u001b[0m\u001b[1;33m.\u001b[0m\u001b[0mblknos\u001b[0m\u001b[1;33m[\u001b[0m\u001b[0mloc\u001b[0m\u001b[1;33m]\u001b[0m\u001b[1;33m\u001b[0m\u001b[1;33m\u001b[0m\u001b[0m\n\u001b[0m\u001b[0;32m   1101\u001b[0m         \u001b[0mblklocs\u001b[0m \u001b[1;33m=\u001b[0m \u001b[0mself\u001b[0m\u001b[1;33m.\u001b[0m\u001b[0mblklocs\u001b[0m\u001b[1;33m[\u001b[0m\u001b[0mloc\u001b[0m\u001b[1;33m]\u001b[0m\u001b[1;33m.\u001b[0m\u001b[0mcopy\u001b[0m\u001b[1;33m(\u001b[0m\u001b[1;33m)\u001b[0m\u001b[1;33m\u001b[0m\u001b[1;33m\u001b[0m\u001b[0m\n\u001b[0;32m   1102\u001b[0m \u001b[1;33m\u001b[0m\u001b[0m\n",
      "\u001b[1;31mKeyboardInterrupt\u001b[0m: "
     ]
    }
   ],
   "source": [
    "#impute missing values and create clean dfs for all the patients\n",
    "\n",
    "for p in patient_id:\n",
    "    df=pd.read_csv(data_path+'/'+p,sep='|')\n",
    "    features=df.columns[:-1]\n",
    "    df_clean=impute_missing_vals(df,features)\n",
    "    \n",
    "    \n",
    "    #save the new patient data\n",
    "    \n",
    "    if p in train_id:\n",
    "        save_path='D:\\\\Jio Term 2\\\\ML\\\\ML_Project\\\\training_setA\\\\baseline\\\\train_baseline'\n",
    "        df_clean.to_csv(save_path+'/'+p,sep='|',index=False)\n",
    "    \n",
    "#     elif p in val_id:\n",
    "#         save_path='D:\\\\Jio Term 2\\\\ML\\\\ML_Project\\\\training_setA\\\\baseline\\\\val_baseline'\n",
    "#         df_clean.to_csv(save_path+'/'+p,sep='|',index=False)\n",
    "        \n",
    "#     else:\n",
    "#         save_path = 'D:\\\\Jio Term 2\\\\ML\\\\ML_Project\\\\training_setA\\\\baseline\\\\test_baseline'\n",
    "#         df_clean.to_csv(save_path + p, sep='|', index = False)\n",
    "    \n",
    "    \n",
    "    "
   ]
  },
  {
   "cell_type": "code",
   "execution_count": 77,
   "id": "59f1a2ae",
   "metadata": {},
   "outputs": [],
   "source": [
    "#impute missing values and create clean dfs for all the patients\n",
    "\n",
    "for p in patient_id:\n",
    "    df=pd.read_csv(data_path+'/'+p,sep='|')\n",
    "    features=df.columns[:-1]\n",
    "    df_clean=impute_missing_vals(df,features)\n",
    "    \n",
    "    \n",
    "    #save the new patient data\n",
    "    \n",
    "    if p in val_id:\n",
    "        save_path='D:\\\\Jio Term 2\\\\ML\\\\ML_Project\\\\training_setA\\\\baseline\\\\val_baseline'\n",
    "        df_clean.to_csv(save_path+'/'+p,sep='|',index=False)\n",
    "    "
   ]
  },
  {
   "cell_type": "code",
   "execution_count": 78,
   "id": "e6222bf9",
   "metadata": {},
   "outputs": [],
   "source": [
    "for p in patient_id:\n",
    "    df=pd.read_csv(data_path+'/'+p,sep='|')\n",
    "    features=df.columns[:-1]\n",
    "    df_clean=impute_missing_vals(df,features)\n",
    "    \n",
    "    \n",
    "    #save the new patient data\n",
    "    \n",
    "    if p in test_id:\n",
    "        save_path='D:\\\\Jio Term 2\\\\ML\\\\ML_Project\\\\training_setA\\\\baseline\\\\test_baseline'\n",
    "        df_clean.to_csv(save_path+'/'+p,sep='|',index=False)"
   ]
  },
  {
   "cell_type": "markdown",
   "id": "267cd409",
   "metadata": {},
   "source": [
    "# CONCAT training data INTO SINGLE DATAFRAME"
   ]
  },
  {
   "cell_type": "code",
   "execution_count": 80,
   "id": "80090327",
   "metadata": {},
   "outputs": [],
   "source": [
    "final_training=sorted(os.listdir('D:\\\\Jio Term 2\\\\ML\\\\ML_Project\\\\training_setA\\\\baseline\\\\train_baseline'))"
   ]
  },
  {
   "cell_type": "code",
   "execution_count": 81,
   "id": "76bd468b",
   "metadata": {},
   "outputs": [],
   "source": [
    "with open('sepsis_training_data.psv','wb') as fout:\n",
    "    for i,p in enumerate(final_training):\n",
    "        if i==0:\n",
    "            with open('D:\\\\Jio Term 2\\\\ML\\\\ML_Project\\\\training_setA\\\\baseline\\\\train_baseline'+'/'+p,'rb') as f:\n",
    "                fout.write(f.read())\n",
    "        with open('D:\\\\Jio Term 2\\\\ML\\\\ML_Project\\\\training_setA\\\\baseline\\\\train_baseline'+'/'+p,'rb') as f:\n",
    "            next(f)\n",
    "            fout.write(f.read())"
   ]
  },
  {
   "cell_type": "code",
   "execution_count": 82,
   "id": "1052f13f",
   "metadata": {},
   "outputs": [],
   "source": [
    "sepsis_data=pd.read_csv('sepsis_training_data.psv',sep='|')"
   ]
  },
  {
   "cell_type": "code",
   "execution_count": 83,
   "id": "5bfcb41d",
   "metadata": {},
   "outputs": [
    {
     "data": {
      "text/plain": [
       "(552462, 41)"
      ]
     },
     "execution_count": 83,
     "metadata": {},
     "output_type": "execute_result"
    }
   ],
   "source": [
    "sepsis_data.shape"
   ]
  },
  {
   "cell_type": "code",
   "execution_count": 84,
   "id": "deed8360",
   "metadata": {},
   "outputs": [],
   "source": [
    "sepsis_data.to_csv(r'D:\\\\Jio Term 2\\\\ML\\ML_Project\\\\project_data\\\\sepsis_training_data.csv', index=False)"
   ]
  },
  {
   "cell_type": "code",
   "execution_count": 85,
   "id": "90ef29cf",
   "metadata": {},
   "outputs": [],
   "source": [
    "train_concat=pd.read_csv('D:\\\\Jio Term 2\\\\ML\\\\ML_Project\\\\project_data\\sepsis_training_data.csv')"
   ]
  },
  {
   "cell_type": "markdown",
   "id": "02f1f8cb",
   "metadata": {},
   "source": [
    "# CONCAT validation data into Single DataFrame"
   ]
  },
  {
   "cell_type": "code",
   "execution_count": 86,
   "id": "b30a2ce8",
   "metadata": {},
   "outputs": [],
   "source": [
    "final_validation=sorted(os.listdir('D:\\\\Jio Term 2\\\\ML\\\\ML_Project\\\\training_setA\\\\baseline\\\\val_baseline'))"
   ]
  },
  {
   "cell_type": "code",
   "execution_count": 87,
   "id": "9060a777",
   "metadata": {},
   "outputs": [],
   "source": [
    "with open('sepsis_validation_data.psv','wb') as fout:\n",
    "    for i,p in enumerate(final_validation):\n",
    "        if i==0:\n",
    "            with open('D:\\\\Jio Term 2\\\\ML\\\\ML_Project\\\\training_setA\\\\baseline\\\\val_baseline'+'/'+p,'rb') as f:\n",
    "                fout.write(f.read())\n",
    "        with open('D:\\\\Jio Term 2\\\\ML\\\\ML_Project\\\\training_setA\\\\baseline\\\\val_baseline'+'/'+p,'rb') as f:\n",
    "            next(f)\n",
    "            fout.write(f.read())"
   ]
  },
  {
   "cell_type": "code",
   "execution_count": 88,
   "id": "ffb48ff7",
   "metadata": {},
   "outputs": [],
   "source": [
    "sepsis_validation_data=pd.read_csv('sepsis_validation_data.psv', sep='|')"
   ]
  },
  {
   "cell_type": "code",
   "execution_count": 89,
   "id": "d338b7f9",
   "metadata": {},
   "outputs": [],
   "source": [
    "sepsis_validation_data.to_csv(r'D:\\\\Jio Term 2\\\\ML\\ML_Project\\\\project_data\\\\sepsis_validation_data.csv', index=False)"
   ]
  },
  {
   "cell_type": "code",
   "execution_count": 90,
   "id": "63b300b7",
   "metadata": {},
   "outputs": [],
   "source": [
    "val_concat=pd.read_csv('D:\\\\Jio Term 2\\\\ML\\\\ML_Project\\\\project_data\\sepsis_validation_data.csv')"
   ]
  },
  {
   "cell_type": "markdown",
   "id": "d09d9cca",
   "metadata": {},
   "source": [
    "# CONCAT test data into Single DataFrame"
   ]
  },
  {
   "cell_type": "code",
   "execution_count": 92,
   "id": "25a0d4c4",
   "metadata": {},
   "outputs": [],
   "source": [
    "final_test=sorted(os.listdir('D:\\\\Jio Term 2\\\\ML\\\\ML_Project\\\\training_setA\\\\baseline\\\\test_baseline'))"
   ]
  },
  {
   "cell_type": "code",
   "execution_count": 94,
   "id": "f920635a",
   "metadata": {},
   "outputs": [],
   "source": [
    "with open('sepsis_test_data.psv','wb') as fout:\n",
    "    for i,p in enumerate(final_test):\n",
    "        if i==0:\n",
    "            with open('D:\\\\Jio Term 2\\\\ML\\\\ML_Project\\\\training_setA\\\\baseline\\\\test_baseline'+'/'+p,'rb') as f:\n",
    "                fout.write(f.read())\n",
    "        with open('D:\\\\Jio Term 2\\\\ML\\\\ML_Project\\\\training_setA\\\\baseline\\\\test_baseline'+'/'+p,'rb') as f:\n",
    "            next(f)\n",
    "            fout.write(f.read())"
   ]
  },
  {
   "cell_type": "code",
   "execution_count": 97,
   "id": "787fccfa",
   "metadata": {},
   "outputs": [],
   "source": [
    "sepsis_test_data=pd.read_csv('sepsis_test_data.psv', sep='|')"
   ]
  },
  {
   "cell_type": "code",
   "execution_count": 98,
   "id": "080b09c2",
   "metadata": {},
   "outputs": [],
   "source": [
    "sepsis_test_data.to_csv(r'D:\\\\Jio Term 2\\\\ML\\ML_Project\\\\project_data\\\\sepsis_test_data.csv', index=False)"
   ]
  },
  {
   "cell_type": "code",
   "execution_count": 99,
   "id": "f286a4b6",
   "metadata": {},
   "outputs": [],
   "source": [
    "test_concat=pd.read_csv('D:\\\\Jio Term 2\\\\ML\\\\ML_Project\\\\project_data\\sepsis_test_data.csv')"
   ]
  },
  {
   "cell_type": "code",
   "execution_count": 101,
   "id": "80f2689b",
   "metadata": {},
   "outputs": [
    {
     "data": {
      "text/html": [
       "<div>\n",
       "<style scoped>\n",
       "    .dataframe tbody tr th:only-of-type {\n",
       "        vertical-align: middle;\n",
       "    }\n",
       "\n",
       "    .dataframe tbody tr th {\n",
       "        vertical-align: top;\n",
       "    }\n",
       "\n",
       "    .dataframe thead th {\n",
       "        text-align: right;\n",
       "    }\n",
       "</style>\n",
       "<table border=\"1\" class=\"dataframe\">\n",
       "  <thead>\n",
       "    <tr style=\"text-align: right;\">\n",
       "      <th></th>\n",
       "      <th>HR</th>\n",
       "      <th>O2Sat</th>\n",
       "      <th>Temp</th>\n",
       "      <th>SBP</th>\n",
       "      <th>MAP</th>\n",
       "      <th>DBP</th>\n",
       "      <th>Resp</th>\n",
       "      <th>EtCO2</th>\n",
       "      <th>BaseExcess</th>\n",
       "      <th>HCO3</th>\n",
       "      <th>...</th>\n",
       "      <th>WBC</th>\n",
       "      <th>Fibrinogen</th>\n",
       "      <th>Platelets</th>\n",
       "      <th>Age</th>\n",
       "      <th>Gender</th>\n",
       "      <th>Unit1</th>\n",
       "      <th>Unit2</th>\n",
       "      <th>HospAdmTime</th>\n",
       "      <th>ICULOS</th>\n",
       "      <th>SepsisLabel</th>\n",
       "    </tr>\n",
       "  </thead>\n",
       "  <tbody>\n",
       "    <tr>\n",
       "      <th>0</th>\n",
       "      <td>85.0</td>\n",
       "      <td>0.0</td>\n",
       "      <td>36.10</td>\n",
       "      <td>117.0</td>\n",
       "      <td>90.0</td>\n",
       "      <td>74.0</td>\n",
       "      <td>11.0</td>\n",
       "      <td>0.0</td>\n",
       "      <td>-7.0</td>\n",
       "      <td>18.0</td>\n",
       "      <td>...</td>\n",
       "      <td>12.6</td>\n",
       "      <td>0.0</td>\n",
       "      <td>127.0</td>\n",
       "      <td>58.54</td>\n",
       "      <td>0</td>\n",
       "      <td>0.0</td>\n",
       "      <td>0.0</td>\n",
       "      <td>-405.34</td>\n",
       "      <td>1</td>\n",
       "      <td>0</td>\n",
       "    </tr>\n",
       "    <tr>\n",
       "      <th>1</th>\n",
       "      <td>85.0</td>\n",
       "      <td>0.0</td>\n",
       "      <td>36.10</td>\n",
       "      <td>117.0</td>\n",
       "      <td>90.0</td>\n",
       "      <td>74.0</td>\n",
       "      <td>11.0</td>\n",
       "      <td>0.0</td>\n",
       "      <td>-7.0</td>\n",
       "      <td>18.0</td>\n",
       "      <td>...</td>\n",
       "      <td>12.6</td>\n",
       "      <td>0.0</td>\n",
       "      <td>127.0</td>\n",
       "      <td>58.54</td>\n",
       "      <td>0</td>\n",
       "      <td>0.0</td>\n",
       "      <td>0.0</td>\n",
       "      <td>-405.34</td>\n",
       "      <td>2</td>\n",
       "      <td>0</td>\n",
       "    </tr>\n",
       "    <tr>\n",
       "      <th>2</th>\n",
       "      <td>89.5</td>\n",
       "      <td>0.0</td>\n",
       "      <td>36.55</td>\n",
       "      <td>122.5</td>\n",
       "      <td>93.0</td>\n",
       "      <td>75.5</td>\n",
       "      <td>9.5</td>\n",
       "      <td>0.0</td>\n",
       "      <td>-7.0</td>\n",
       "      <td>18.0</td>\n",
       "      <td>...</td>\n",
       "      <td>12.6</td>\n",
       "      <td>0.0</td>\n",
       "      <td>127.0</td>\n",
       "      <td>58.54</td>\n",
       "      <td>0</td>\n",
       "      <td>0.0</td>\n",
       "      <td>0.0</td>\n",
       "      <td>-405.34</td>\n",
       "      <td>3</td>\n",
       "      <td>0</td>\n",
       "    </tr>\n",
       "    <tr>\n",
       "      <th>3</th>\n",
       "      <td>97.0</td>\n",
       "      <td>0.0</td>\n",
       "      <td>36.70</td>\n",
       "      <td>127.0</td>\n",
       "      <td>97.0</td>\n",
       "      <td>79.0</td>\n",
       "      <td>12.0</td>\n",
       "      <td>0.0</td>\n",
       "      <td>-8.0</td>\n",
       "      <td>18.0</td>\n",
       "      <td>...</td>\n",
       "      <td>12.6</td>\n",
       "      <td>0.0</td>\n",
       "      <td>127.0</td>\n",
       "      <td>58.54</td>\n",
       "      <td>0</td>\n",
       "      <td>0.0</td>\n",
       "      <td>0.0</td>\n",
       "      <td>-405.34</td>\n",
       "      <td>4</td>\n",
       "      <td>0</td>\n",
       "    </tr>\n",
       "    <tr>\n",
       "      <th>4</th>\n",
       "      <td>90.0</td>\n",
       "      <td>0.0</td>\n",
       "      <td>37.00</td>\n",
       "      <td>110.0</td>\n",
       "      <td>85.0</td>\n",
       "      <td>70.0</td>\n",
       "      <td>14.0</td>\n",
       "      <td>0.0</td>\n",
       "      <td>-8.0</td>\n",
       "      <td>17.0</td>\n",
       "      <td>...</td>\n",
       "      <td>17.7</td>\n",
       "      <td>0.0</td>\n",
       "      <td>102.0</td>\n",
       "      <td>58.54</td>\n",
       "      <td>0</td>\n",
       "      <td>0.0</td>\n",
       "      <td>0.0</td>\n",
       "      <td>-405.34</td>\n",
       "      <td>5</td>\n",
       "      <td>0</td>\n",
       "    </tr>\n",
       "  </tbody>\n",
       "</table>\n",
       "<p>5 rows × 41 columns</p>\n",
       "</div>"
      ],
      "text/plain": [
       "     HR  O2Sat   Temp    SBP   MAP   DBP  Resp  EtCO2  BaseExcess  HCO3  ...  \\\n",
       "0  85.0    0.0  36.10  117.0  90.0  74.0  11.0    0.0        -7.0  18.0  ...   \n",
       "1  85.0    0.0  36.10  117.0  90.0  74.0  11.0    0.0        -7.0  18.0  ...   \n",
       "2  89.5    0.0  36.55  122.5  93.0  75.5   9.5    0.0        -7.0  18.0  ...   \n",
       "3  97.0    0.0  36.70  127.0  97.0  79.0  12.0    0.0        -8.0  18.0  ...   \n",
       "4  90.0    0.0  37.00  110.0  85.0  70.0  14.0    0.0        -8.0  17.0  ...   \n",
       "\n",
       "    WBC  Fibrinogen  Platelets    Age  Gender  Unit1  Unit2  HospAdmTime  \\\n",
       "0  12.6         0.0      127.0  58.54       0    0.0    0.0      -405.34   \n",
       "1  12.6         0.0      127.0  58.54       0    0.0    0.0      -405.34   \n",
       "2  12.6         0.0      127.0  58.54       0    0.0    0.0      -405.34   \n",
       "3  12.6         0.0      127.0  58.54       0    0.0    0.0      -405.34   \n",
       "4  17.7         0.0      102.0  58.54       0    0.0    0.0      -405.34   \n",
       "\n",
       "   ICULOS  SepsisLabel  \n",
       "0       1            0  \n",
       "1       2            0  \n",
       "2       3            0  \n",
       "3       4            0  \n",
       "4       5            0  \n",
       "\n",
       "[5 rows x 41 columns]"
      ]
     },
     "execution_count": 101,
     "metadata": {},
     "output_type": "execute_result"
    }
   ],
   "source": [
    "test_concat.head()"
   ]
  },
  {
   "cell_type": "markdown",
   "id": "e9f7fec4",
   "metadata": {},
   "source": [
    "# CONCAT TRAININGSETB VALIDATION DATA INTO SINGLE DATAFRAME"
   ]
  },
  {
   "cell_type": "code",
   "execution_count": 27,
   "id": "9ec7cf7c",
   "metadata": {},
   "outputs": [],
   "source": [
    "final_testval_B=sorted(os.listdir('D:\\\\Jio Term 2\\\\ML\\\\ML_Project\\\\training_setB\\\\baseline\\\\train_baseline_B'))"
   ]
  },
  {
   "cell_type": "code",
   "execution_count": 28,
   "id": "326a1886",
   "metadata": {},
   "outputs": [],
   "source": [
    "with open('sepsis_testB_data.psv','wb') as fout:\n",
    "    for i,p in enumerate(final_testval_B):\n",
    "        if i==0:\n",
    "            with open('D:\\\\Jio Term 2\\\\ML\\\\ML_Project\\\\training_setB\\\\baseline\\\\train_baseline_B'+'/'+p,'rb') as f:\n",
    "                fout.write(f.read())\n",
    "        with open('D:\\\\Jio Term 2\\\\ML\\\\ML_Project\\\\training_setB\\\\baseline\\\\train_baseline_B'+'/'+p,'rb') as f:\n",
    "            next(f)\n",
    "            fout.write(f.read())"
   ]
  },
  {
   "cell_type": "code",
   "execution_count": 29,
   "id": "3ed4d5fe",
   "metadata": {},
   "outputs": [],
   "source": [
    "sepsis_testvalB_data=pd.read_csv('sepsis_testB_data.psv', sep='|')"
   ]
  },
  {
   "cell_type": "code",
   "execution_count": 30,
   "id": "1016a4b8",
   "metadata": {},
   "outputs": [],
   "source": [
    "sepsis_testvalB_data.to_csv(r'D:\\\\Jio Term 2\\\\ML\\ML_Project\\\\project_data\\\\sepsis_testB_data.csv', index=False)"
   ]
  },
  {
   "cell_type": "code",
   "execution_count": 31,
   "id": "e80300f1",
   "metadata": {},
   "outputs": [],
   "source": [
    "testB_concat=pd.read_csv('D:\\\\Jio Term 2\\\\ML\\\\ML_Project\\\\project_data\\sepsis_testB_data.csv')"
   ]
  },
  {
   "cell_type": "code",
   "execution_count": 32,
   "id": "6c5452f6",
   "metadata": {},
   "outputs": [
    {
     "data": {
      "text/html": [
       "<div>\n",
       "<style scoped>\n",
       "    .dataframe tbody tr th:only-of-type {\n",
       "        vertical-align: middle;\n",
       "    }\n",
       "\n",
       "    .dataframe tbody tr th {\n",
       "        vertical-align: top;\n",
       "    }\n",
       "\n",
       "    .dataframe thead th {\n",
       "        text-align: right;\n",
       "    }\n",
       "</style>\n",
       "<table border=\"1\" class=\"dataframe\">\n",
       "  <thead>\n",
       "    <tr style=\"text-align: right;\">\n",
       "      <th></th>\n",
       "      <th>HR</th>\n",
       "      <th>O2Sat</th>\n",
       "      <th>Temp</th>\n",
       "      <th>SBP</th>\n",
       "      <th>MAP</th>\n",
       "      <th>DBP</th>\n",
       "      <th>Resp</th>\n",
       "      <th>EtCO2</th>\n",
       "      <th>BaseExcess</th>\n",
       "      <th>HCO3</th>\n",
       "      <th>...</th>\n",
       "      <th>WBC</th>\n",
       "      <th>Fibrinogen</th>\n",
       "      <th>Platelets</th>\n",
       "      <th>Age</th>\n",
       "      <th>Gender</th>\n",
       "      <th>Unit1</th>\n",
       "      <th>Unit2</th>\n",
       "      <th>HospAdmTime</th>\n",
       "      <th>ICULOS</th>\n",
       "      <th>SepsisLabel</th>\n",
       "    </tr>\n",
       "  </thead>\n",
       "  <tbody>\n",
       "    <tr>\n",
       "      <th>0</th>\n",
       "      <td>93.0</td>\n",
       "      <td>92.5</td>\n",
       "      <td>36.5</td>\n",
       "      <td>110.0</td>\n",
       "      <td>76.0</td>\n",
       "      <td>56.0</td>\n",
       "      <td>22.0</td>\n",
       "      <td>0.0</td>\n",
       "      <td>0.0</td>\n",
       "      <td>0.0</td>\n",
       "      <td>...</td>\n",
       "      <td>10.8</td>\n",
       "      <td>0.0</td>\n",
       "      <td>170.0</td>\n",
       "      <td>73</td>\n",
       "      <td>1</td>\n",
       "      <td>1.0</td>\n",
       "      <td>0.0</td>\n",
       "      <td>-214.64</td>\n",
       "      <td>1</td>\n",
       "      <td>0</td>\n",
       "    </tr>\n",
       "    <tr>\n",
       "      <th>1</th>\n",
       "      <td>93.0</td>\n",
       "      <td>92.5</td>\n",
       "      <td>36.5</td>\n",
       "      <td>110.0</td>\n",
       "      <td>76.0</td>\n",
       "      <td>56.0</td>\n",
       "      <td>22.0</td>\n",
       "      <td>0.0</td>\n",
       "      <td>0.0</td>\n",
       "      <td>0.0</td>\n",
       "      <td>...</td>\n",
       "      <td>10.8</td>\n",
       "      <td>0.0</td>\n",
       "      <td>170.0</td>\n",
       "      <td>73</td>\n",
       "      <td>1</td>\n",
       "      <td>1.0</td>\n",
       "      <td>0.0</td>\n",
       "      <td>-214.64</td>\n",
       "      <td>2</td>\n",
       "      <td>0</td>\n",
       "    </tr>\n",
       "    <tr>\n",
       "      <th>2</th>\n",
       "      <td>91.0</td>\n",
       "      <td>96.0</td>\n",
       "      <td>36.5</td>\n",
       "      <td>108.0</td>\n",
       "      <td>84.5</td>\n",
       "      <td>72.0</td>\n",
       "      <td>23.5</td>\n",
       "      <td>0.0</td>\n",
       "      <td>0.0</td>\n",
       "      <td>0.0</td>\n",
       "      <td>...</td>\n",
       "      <td>10.8</td>\n",
       "      <td>0.0</td>\n",
       "      <td>170.0</td>\n",
       "      <td>73</td>\n",
       "      <td>1</td>\n",
       "      <td>1.0</td>\n",
       "      <td>0.0</td>\n",
       "      <td>-214.64</td>\n",
       "      <td>3</td>\n",
       "      <td>0</td>\n",
       "    </tr>\n",
       "    <tr>\n",
       "      <th>3</th>\n",
       "      <td>93.0</td>\n",
       "      <td>98.0</td>\n",
       "      <td>36.5</td>\n",
       "      <td>123.0</td>\n",
       "      <td>87.0</td>\n",
       "      <td>61.0</td>\n",
       "      <td>21.0</td>\n",
       "      <td>0.0</td>\n",
       "      <td>0.0</td>\n",
       "      <td>0.0</td>\n",
       "      <td>...</td>\n",
       "      <td>10.8</td>\n",
       "      <td>0.0</td>\n",
       "      <td>170.0</td>\n",
       "      <td>73</td>\n",
       "      <td>1</td>\n",
       "      <td>1.0</td>\n",
       "      <td>0.0</td>\n",
       "      <td>-214.64</td>\n",
       "      <td>4</td>\n",
       "      <td>0</td>\n",
       "    </tr>\n",
       "    <tr>\n",
       "      <th>4</th>\n",
       "      <td>93.0</td>\n",
       "      <td>95.0</td>\n",
       "      <td>36.5</td>\n",
       "      <td>110.0</td>\n",
       "      <td>81.0</td>\n",
       "      <td>70.0</td>\n",
       "      <td>20.0</td>\n",
       "      <td>0.0</td>\n",
       "      <td>0.0</td>\n",
       "      <td>0.0</td>\n",
       "      <td>...</td>\n",
       "      <td>10.8</td>\n",
       "      <td>0.0</td>\n",
       "      <td>170.0</td>\n",
       "      <td>73</td>\n",
       "      <td>1</td>\n",
       "      <td>1.0</td>\n",
       "      <td>0.0</td>\n",
       "      <td>-214.64</td>\n",
       "      <td>5</td>\n",
       "      <td>0</td>\n",
       "    </tr>\n",
       "  </tbody>\n",
       "</table>\n",
       "<p>5 rows × 41 columns</p>\n",
       "</div>"
      ],
      "text/plain": [
       "     HR  O2Sat  Temp    SBP   MAP   DBP  Resp  EtCO2  BaseExcess  HCO3  ...  \\\n",
       "0  93.0   92.5  36.5  110.0  76.0  56.0  22.0    0.0         0.0   0.0  ...   \n",
       "1  93.0   92.5  36.5  110.0  76.0  56.0  22.0    0.0         0.0   0.0  ...   \n",
       "2  91.0   96.0  36.5  108.0  84.5  72.0  23.5    0.0         0.0   0.0  ...   \n",
       "3  93.0   98.0  36.5  123.0  87.0  61.0  21.0    0.0         0.0   0.0  ...   \n",
       "4  93.0   95.0  36.5  110.0  81.0  70.0  20.0    0.0         0.0   0.0  ...   \n",
       "\n",
       "    WBC  Fibrinogen  Platelets  Age  Gender  Unit1  Unit2  HospAdmTime  \\\n",
       "0  10.8         0.0      170.0   73       1    1.0    0.0      -214.64   \n",
       "1  10.8         0.0      170.0   73       1    1.0    0.0      -214.64   \n",
       "2  10.8         0.0      170.0   73       1    1.0    0.0      -214.64   \n",
       "3  10.8         0.0      170.0   73       1    1.0    0.0      -214.64   \n",
       "4  10.8         0.0      170.0   73       1    1.0    0.0      -214.64   \n",
       "\n",
       "   ICULOS  SepsisLabel  \n",
       "0       1            0  \n",
       "1       2            0  \n",
       "2       3            0  \n",
       "3       4            0  \n",
       "4       5            0  \n",
       "\n",
       "[5 rows x 41 columns]"
      ]
     },
     "execution_count": 32,
     "metadata": {},
     "output_type": "execute_result"
    }
   ],
   "source": [
    "testB_concat.head()"
   ]
  },
  {
   "cell_type": "code",
   "execution_count": null,
   "id": "edc5ed7e",
   "metadata": {},
   "outputs": [],
   "source": []
  }
 ],
 "metadata": {
  "kernelspec": {
   "display_name": "Python 3",
   "language": "python",
   "name": "python3"
  },
  "language_info": {
   "codemirror_mode": {
    "name": "ipython",
    "version": 3
   },
   "file_extension": ".py",
   "mimetype": "text/x-python",
   "name": "python",
   "nbconvert_exporter": "python",
   "pygments_lexer": "ipython3",
   "version": "3.8.8"
  }
 },
 "nbformat": 4,
 "nbformat_minor": 5
}
